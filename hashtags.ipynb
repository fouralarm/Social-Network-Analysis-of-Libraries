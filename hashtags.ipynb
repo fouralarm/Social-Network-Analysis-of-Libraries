{
 "cells": [
  {
   "cell_type": "code",
   "execution_count": 1,
   "id": "24f5721c",
   "metadata": {},
   "outputs": [
    {
     "name": "stderr",
     "output_type": "stream",
     "text": [
      "C:\\Users\\Aditi\\anaconda3\\lib\\site-packages\\win_unicode_console\\__init__.py:31: RuntimeWarning: sys.stdin.encoding == 'utf-8', whereas sys.stdout.encoding == 'UTF-8', readline hook consumer may assume they are the same\n",
      "  readline_hook.enable(use_pyreadline=use_pyreadline)\n"
     ]
    }
   ],
   "source": [
    "import instaloader\n",
    "import pandas as pd\n",
    "\n",
    "# Use parameters to save diffrent metadata\n",
    "L = instaloader.Instaloader(download_pictures=False,download_videos=False,download_comments=False,save_metadata=False)\n",
    "\n",
    "\n",
    "\n",
    "\n"
   ]
  },
  {
   "cell_type": "code",
   "execution_count": 36,
   "id": "60869ee7",
   "metadata": {},
   "outputs": [
    {
     "name": "stdout",
     "output_type": "stream",
     "text": [
      "Loaded session from janesessionstats.\n"
     ]
    }
   ],
   "source": [
    "#L.two_factor_login(\"053218\")\n",
    "\n",
    "#saving session to file \n",
    "#L.save_session_to_file(filename=\"janesessionhash\")\n",
    "L.load_session_from_file(\"notsmithjane\",filename=\"janesessionstats\")"
   ]
  },
  {
   "cell_type": "code",
   "execution_count": 17,
   "id": "1d28c74b",
   "metadata": {},
   "outputs": [],
   "source": [
    "#creating hashtag instance\n",
    "#hashtag = instaloader.Hashtag.from_name(L.context,\"berlinlibrary\")\n",
    "#hashtag.name\n",
    "#hashtag.mediacount"
   ]
  },
  {
   "cell_type": "code",
   "execution_count": 3,
   "id": "c6173eaa",
   "metadata": {},
   "outputs": [
    {
     "data": {
      "text/plain": [
       "5814628"
      ]
     },
     "execution_count": 3,
     "metadata": {},
     "output_type": "execute_result"
    }
   ],
   "source": [
    "from instaloader import Hashtag\n",
    "h = Hashtag.from_name(L.context,\"coding\")\n",
    "h.mediacount\n",
    "\n"
   ]
  },
  {
   "cell_type": "code",
   "execution_count": 4,
   "id": "a14c9529",
   "metadata": {},
   "outputs": [
    {
     "data": {
      "text/html": [
       "<div>\n",
       "<style scoped>\n",
       "    .dataframe tbody tr th:only-of-type {\n",
       "        vertical-align: middle;\n",
       "    }\n",
       "\n",
       "    .dataframe tbody tr th {\n",
       "        vertical-align: top;\n",
       "    }\n",
       "\n",
       "    .dataframe thead th {\n",
       "        text-align: right;\n",
       "    }\n",
       "</style>\n",
       "<table border=\"1\" class=\"dataframe\">\n",
       "  <thead>\n",
       "    <tr style=\"text-align: right;\">\n",
       "      <th></th>\n",
       "      <th>Name</th>\n",
       "      <th>Instagram user</th>\n",
       "      <th>Followers</th>\n",
       "      <th>Following</th>\n",
       "      <th>Mediacount</th>\n",
       "      <th>Hashtagged</th>\n",
       "    </tr>\n",
       "  </thead>\n",
       "  <tbody>\n",
       "    <tr>\n",
       "      <th>0</th>\n",
       "      <td>British Library</td>\n",
       "      <td>britishlibrary</td>\n",
       "      <td>379586</td>\n",
       "      <td>189</td>\n",
       "      <td>1995</td>\n",
       "      <td>70947</td>\n",
       "    </tr>\n",
       "    <tr>\n",
       "      <th>1</th>\n",
       "      <td>Library of Congress</td>\n",
       "      <td>librarycongress</td>\n",
       "      <td>155115</td>\n",
       "      <td>27</td>\n",
       "      <td>2013</td>\n",
       "      <td>914</td>\n",
       "    </tr>\n",
       "    <tr>\n",
       "      <th>2</th>\n",
       "      <td>New York Public Library</td>\n",
       "      <td>nypl</td>\n",
       "      <td>506012</td>\n",
       "      <td>478</td>\n",
       "      <td>4361</td>\n",
       "      <td>172956</td>\n",
       "    </tr>\n",
       "    <tr>\n",
       "      <th>3</th>\n",
       "      <td>Library and Archives Canada</td>\n",
       "      <td>libraryarchives</td>\n",
       "      <td>13237</td>\n",
       "      <td>395</td>\n",
       "      <td>270</td>\n",
       "      <td>1569</td>\n",
       "    </tr>\n",
       "    <tr>\n",
       "      <th>4</th>\n",
       "      <td>Russian State Library</td>\n",
       "      <td>leninka_official</td>\n",
       "      <td>14046</td>\n",
       "      <td>384</td>\n",
       "      <td>1516</td>\n",
       "      <td>69</td>\n",
       "    </tr>\n",
       "  </tbody>\n",
       "</table>\n",
       "</div>"
      ],
      "text/plain": [
       "                           Name    Instagram user  Followers  Following  \\\n",
       "0              British Library     britishlibrary     379586        189   \n",
       "1          Library of Congress    librarycongress     155115         27   \n",
       "2      New York Public Library               nypl     506012        478   \n",
       "3  Library and Archives Canada    libraryarchives      13237        395   \n",
       "4        Russian State Library   leninka_official      14046        384   \n",
       "\n",
       "   Mediacount  Hashtagged  \n",
       "0        1995       70947  \n",
       "1        2013         914  \n",
       "2        4361      172956  \n",
       "3         270        1569  \n",
       "4        1516          69  "
      ]
     },
     "execution_count": 4,
     "metadata": {},
     "output_type": "execute_result"
    }
   ],
   "source": [
    "statdata=pd.read_csv(\"statistichashtag.csv\")\n",
    "df=pd.DataFrame(statdata)\n",
    "df.columns\n",
    "df.drop(df.columns[0],axis=1,inplace=True)\n",
    "df.head()"
   ]
  },
  {
   "cell_type": "code",
   "execution_count": 35,
   "id": "45534f01",
   "metadata": {},
   "outputs": [],
   "source": [
    "#df.drop(df.columns[0],axis=1,inplace=True)\n",
    "#df.head()"
   ]
  },
  {
   "cell_type": "code",
   "execution_count": 5,
   "id": "99418d4e",
   "metadata": {},
   "outputs": [
    {
     "data": {
      "text/plain": [
       "(69, 6)"
      ]
     },
     "execution_count": 5,
     "metadata": {},
     "output_type": "execute_result"
    }
   ],
   "source": [
    "df.shape\n",
    "#df.insert(5,\"Hashtagged\",0)\n",
    "#df.head()"
   ]
  },
  {
   "cell_type": "code",
   "execution_count": 9,
   "id": "e261ee01",
   "metadata": {},
   "outputs": [],
   "source": [
    "#hashtag count:\n",
    "for i in range(59,69):\n",
    "    username=df.iloc[i,1]\n",
    "    profile = instaloader.Profile.from_username(L.context, username)\n",
    "    h = Hashtag.from_name(L.context,\"{hash}\".format(hash=username))\n",
    "    df.iloc[i,5]=h.mediacount\n"
   ]
  },
  {
   "cell_type": "code",
   "execution_count": 10,
   "id": "df5a85e8",
   "metadata": {
    "scrolled": true
   },
   "outputs": [
    {
     "data": {
      "text/html": [
       "<div>\n",
       "<style scoped>\n",
       "    .dataframe tbody tr th:only-of-type {\n",
       "        vertical-align: middle;\n",
       "    }\n",
       "\n",
       "    .dataframe tbody tr th {\n",
       "        vertical-align: top;\n",
       "    }\n",
       "\n",
       "    .dataframe thead th {\n",
       "        text-align: right;\n",
       "    }\n",
       "</style>\n",
       "<table border=\"1\" class=\"dataframe\">\n",
       "  <thead>\n",
       "    <tr style=\"text-align: right;\">\n",
       "      <th></th>\n",
       "      <th>Name</th>\n",
       "      <th>Instagram user</th>\n",
       "      <th>Followers</th>\n",
       "      <th>Following</th>\n",
       "      <th>Mediacount</th>\n",
       "      <th>Hashtagged</th>\n",
       "    </tr>\n",
       "  </thead>\n",
       "  <tbody>\n",
       "    <tr>\n",
       "      <th>0</th>\n",
       "      <td>British Library</td>\n",
       "      <td>britishlibrary</td>\n",
       "      <td>379586</td>\n",
       "      <td>189</td>\n",
       "      <td>1995</td>\n",
       "      <td>70947</td>\n",
       "    </tr>\n",
       "    <tr>\n",
       "      <th>1</th>\n",
       "      <td>Library of Congress</td>\n",
       "      <td>librarycongress</td>\n",
       "      <td>155115</td>\n",
       "      <td>27</td>\n",
       "      <td>2013</td>\n",
       "      <td>914</td>\n",
       "    </tr>\n",
       "    <tr>\n",
       "      <th>2</th>\n",
       "      <td>New York Public Library</td>\n",
       "      <td>nypl</td>\n",
       "      <td>506012</td>\n",
       "      <td>478</td>\n",
       "      <td>4361</td>\n",
       "      <td>172956</td>\n",
       "    </tr>\n",
       "    <tr>\n",
       "      <th>3</th>\n",
       "      <td>Library and Archives Canada</td>\n",
       "      <td>libraryarchives</td>\n",
       "      <td>13237</td>\n",
       "      <td>395</td>\n",
       "      <td>270</td>\n",
       "      <td>1569</td>\n",
       "    </tr>\n",
       "    <tr>\n",
       "      <th>4</th>\n",
       "      <td>Russian State Library</td>\n",
       "      <td>leninka_official</td>\n",
       "      <td>14046</td>\n",
       "      <td>384</td>\n",
       "      <td>1516</td>\n",
       "      <td>69</td>\n",
       "    </tr>\n",
       "    <tr>\n",
       "      <th>...</th>\n",
       "      <td>...</td>\n",
       "      <td>...</td>\n",
       "      <td>...</td>\n",
       "      <td>...</td>\n",
       "      <td>...</td>\n",
       "      <td>...</td>\n",
       "    </tr>\n",
       "    <tr>\n",
       "      <th>64</th>\n",
       "      <td>Toronto Public Library</td>\n",
       "      <td>torontolibrary</td>\n",
       "      <td>37675</td>\n",
       "      <td>1341</td>\n",
       "      <td>1857</td>\n",
       "      <td>7601</td>\n",
       "    </tr>\n",
       "    <tr>\n",
       "      <th>65</th>\n",
       "      <td>Western Libraries</td>\n",
       "      <td>westernulibs</td>\n",
       "      <td>3026</td>\n",
       "      <td>556</td>\n",
       "      <td>567</td>\n",
       "      <td>22</td>\n",
       "    </tr>\n",
       "    <tr>\n",
       "      <th>66</th>\n",
       "      <td>University Of Glasgow Library</td>\n",
       "      <td>uofglibrary</td>\n",
       "      <td>18416</td>\n",
       "      <td>702</td>\n",
       "      <td>1831</td>\n",
       "      <td>3734</td>\n",
       "    </tr>\n",
       "    <tr>\n",
       "      <th>67</th>\n",
       "      <td>National Library of Scotland</td>\n",
       "      <td>natlibscot</td>\n",
       "      <td>12905</td>\n",
       "      <td>624</td>\n",
       "      <td>1234</td>\n",
       "      <td>1065</td>\n",
       "    </tr>\n",
       "    <tr>\n",
       "      <th>68</th>\n",
       "      <td>UCLA Library</td>\n",
       "      <td>uclalibrary</td>\n",
       "      <td>10035</td>\n",
       "      <td>465</td>\n",
       "      <td>1704</td>\n",
       "      <td>595</td>\n",
       "    </tr>\n",
       "  </tbody>\n",
       "</table>\n",
       "<p>69 rows × 6 columns</p>\n",
       "</div>"
      ],
      "text/plain": [
       "                             Name    Instagram user  Followers  Following  \\\n",
       "0                British Library     britishlibrary     379586        189   \n",
       "1            Library of Congress    librarycongress     155115         27   \n",
       "2        New York Public Library               nypl     506012        478   \n",
       "3    Library and Archives Canada    libraryarchives      13237        395   \n",
       "4          Russian State Library   leninka_official      14046        384   \n",
       "..                            ...               ...        ...        ...   \n",
       "64         Toronto Public Library    torontolibrary      37675       1341   \n",
       "65              Western Libraries      westernulibs       3026        556   \n",
       "66  University Of Glasgow Library       uofglibrary      18416        702   \n",
       "67   National Library of Scotland        natlibscot      12905        624   \n",
       "68                   UCLA Library       uclalibrary      10035        465   \n",
       "\n",
       "    Mediacount  Hashtagged  \n",
       "0         1995       70947  \n",
       "1         2013         914  \n",
       "2         4361      172956  \n",
       "3          270        1569  \n",
       "4         1516          69  \n",
       "..         ...         ...  \n",
       "64        1857        7601  \n",
       "65         567          22  \n",
       "66        1831        3734  \n",
       "67        1234        1065  \n",
       "68        1704         595  \n",
       "\n",
       "[69 rows x 6 columns]"
      ]
     },
     "execution_count": 10,
     "metadata": {},
     "output_type": "execute_result"
    }
   ],
   "source": [
    "df"
   ]
  },
  {
   "cell_type": "code",
   "execution_count": 11,
   "id": "a5cad585",
   "metadata": {},
   "outputs": [],
   "source": [
    "import csv\n",
    "df.to_csv('statistichashtag.csv')"
   ]
  },
  {
   "cell_type": "code",
   "execution_count": null,
   "id": "23fbb42a",
   "metadata": {},
   "outputs": [],
   "source": [
    "h = Hashtag.from_name(L.context,\"nationallibraryofrome\")\n",
    "h.mediacount\n",
    "#df.iloc[13,5]=h.mediacount"
   ]
  },
  {
   "cell_type": "code",
   "execution_count": 14,
   "id": "3ace9b7d",
   "metadata": {},
   "outputs": [
    {
     "data": {
      "text/plain": [
       "0"
      ]
     },
     "execution_count": 14,
     "metadata": {},
     "output_type": "execute_result"
    }
   ],
   "source": []
  },
  {
   "cell_type": "code",
   "execution_count": null,
   "id": "17386ba8",
   "metadata": {},
   "outputs": [],
   "source": []
  }
 ],
 "metadata": {
  "kernelspec": {
   "display_name": "Python 3 (ipykernel)",
   "language": "python",
   "name": "python3"
  },
  "language_info": {
   "codemirror_mode": {
    "name": "ipython",
    "version": 3
   },
   "file_extension": ".py",
   "mimetype": "text/x-python",
   "name": "python",
   "nbconvert_exporter": "python",
   "pygments_lexer": "ipython3",
   "version": "3.9.13"
  }
 },
 "nbformat": 4,
 "nbformat_minor": 5
}
