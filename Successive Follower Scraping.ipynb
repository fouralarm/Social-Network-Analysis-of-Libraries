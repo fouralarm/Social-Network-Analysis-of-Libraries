{
 "cells": [
  {
   "cell_type": "code",
   "execution_count": 1,
   "id": "f5a387ed",
   "metadata": {},
   "outputs": [
    {
     "name": "stderr",
     "output_type": "stream",
     "text": [
      "C:\\Users\\Aditi\\anaconda3\\lib\\site-packages\\win_unicode_console\\__init__.py:31: RuntimeWarning: sys.stdin.encoding == 'utf-8', whereas sys.stdout.encoding == 'UTF-8', readline hook consumer may assume they are the same\n",
      "  readline_hook.enable(use_pyreadline=use_pyreadline)\n"
     ]
    }
   ],
   "source": [
    "import instaloader \n",
    "import csv\n",
    "import pandas as pd"
   ]
  },
  {
   "cell_type": "code",
   "execution_count": 16,
   "id": "e7400560",
   "metadata": {},
   "outputs": [
    {
     "ename": "TwoFactorAuthRequiredException",
     "evalue": "Login error: two-factor authentication required.",
     "output_type": "error",
     "traceback": [
      "\u001b[1;31m---------------------------------------------------------------------------\u001b[0m",
      "\u001b[1;31mTwoFactorAuthRequiredException\u001b[0m            Traceback (most recent call last)",
      "\u001b[1;32m~\\AppData\\Local\\Temp\\ipykernel_12432\\98843059.py\u001b[0m in \u001b[0;36m<module>\u001b[1;34m\u001b[0m\n\u001b[0;32m      6\u001b[0m \u001b[0mpassword\u001b[0m\u001b[1;33m=\u001b[0m\u001b[1;34m\"Marble@2008\"\u001b[0m\u001b[1;33m\u001b[0m\u001b[1;33m\u001b[0m\u001b[0m\n\u001b[0;32m      7\u001b[0m \u001b[1;33m\u001b[0m\u001b[0m\n\u001b[1;32m----> 8\u001b[1;33m \u001b[0mL\u001b[0m\u001b[1;33m.\u001b[0m\u001b[0mlogin\u001b[0m\u001b[1;33m(\u001b[0m\u001b[0musername\u001b[0m\u001b[1;33m,\u001b[0m\u001b[0mpassword\u001b[0m\u001b[1;33m)\u001b[0m\u001b[1;33m\u001b[0m\u001b[1;33m\u001b[0m\u001b[0m\n\u001b[0m\u001b[0;32m      9\u001b[0m \u001b[1;31m#L.two_factor_login(\"863649\")\u001b[0m\u001b[1;33m\u001b[0m\u001b[1;33m\u001b[0m\u001b[0m\n\u001b[0;32m     10\u001b[0m \u001b[1;33m\u001b[0m\u001b[0m\n",
      "\u001b[1;32m~\\anaconda3\\lib\\site-packages\\instaloader\\instaloader.py\u001b[0m in \u001b[0;36mlogin\u001b[1;34m(self, user, passwd)\u001b[0m\n\u001b[0;32m    632\u001b[0m         \u001b[1;33m:\u001b[0m\u001b[0mraises\u001b[0m \u001b[0mTwoFactorAuthRequiredException\u001b[0m\u001b[1;33m:\u001b[0m \u001b[0mFirst\u001b[0m \u001b[0mstep\u001b[0m \u001b[0mof\u001b[0m \u001b[1;36m2\u001b[0m\u001b[0mFA\u001b[0m \u001b[0mlogin\u001b[0m \u001b[0mdone\u001b[0m\u001b[1;33m,\u001b[0m \u001b[0mnow\u001b[0m \u001b[0mcall\u001b[0m\u001b[1;33m\u001b[0m\u001b[1;33m\u001b[0m\u001b[0m\n\u001b[0;32m    633\u001b[0m            :meth:`Instaloader.two_factor_login`.\"\"\"\n\u001b[1;32m--> 634\u001b[1;33m         \u001b[0mself\u001b[0m\u001b[1;33m.\u001b[0m\u001b[0mcontext\u001b[0m\u001b[1;33m.\u001b[0m\u001b[0mlogin\u001b[0m\u001b[1;33m(\u001b[0m\u001b[0muser\u001b[0m\u001b[1;33m,\u001b[0m \u001b[0mpasswd\u001b[0m\u001b[1;33m)\u001b[0m\u001b[1;33m\u001b[0m\u001b[1;33m\u001b[0m\u001b[0m\n\u001b[0m\u001b[0;32m    635\u001b[0m \u001b[1;33m\u001b[0m\u001b[0m\n\u001b[0;32m    636\u001b[0m     \u001b[1;32mdef\u001b[0m \u001b[0mtwo_factor_login\u001b[0m\u001b[1;33m(\u001b[0m\u001b[0mself\u001b[0m\u001b[1;33m,\u001b[0m \u001b[0mtwo_factor_code\u001b[0m\u001b[1;33m)\u001b[0m \u001b[1;33m->\u001b[0m \u001b[1;32mNone\u001b[0m\u001b[1;33m:\u001b[0m\u001b[1;33m\u001b[0m\u001b[1;33m\u001b[0m\u001b[0m\n",
      "\u001b[1;32m~\\anaconda3\\lib\\site-packages\\instaloader\\instaloadercontext.py\u001b[0m in \u001b[0;36mlogin\u001b[1;34m(self, user, passwd)\u001b[0m\n\u001b[0;32m    235\u001b[0m                                             \u001b[0muser\u001b[0m\u001b[1;33m,\u001b[0m\u001b[1;33m\u001b[0m\u001b[1;33m\u001b[0m\u001b[0m\n\u001b[0;32m    236\u001b[0m                                             resp_json['two_factor_info']['two_factor_identifier'])\n\u001b[1;32m--> 237\u001b[1;33m             \u001b[1;32mraise\u001b[0m \u001b[0mTwoFactorAuthRequiredException\u001b[0m\u001b[1;33m(\u001b[0m\u001b[1;34m\"Login error: two-factor authentication required.\"\u001b[0m\u001b[1;33m)\u001b[0m\u001b[1;33m\u001b[0m\u001b[1;33m\u001b[0m\u001b[0m\n\u001b[0m\u001b[0;32m    238\u001b[0m         \u001b[1;32mif\u001b[0m \u001b[0mresp_json\u001b[0m\u001b[1;33m.\u001b[0m\u001b[0mget\u001b[0m\u001b[1;33m(\u001b[0m\u001b[1;34m'checkpoint_url'\u001b[0m\u001b[1;33m)\u001b[0m\u001b[1;33m:\u001b[0m\u001b[1;33m\u001b[0m\u001b[1;33m\u001b[0m\u001b[0m\n\u001b[0;32m    239\u001b[0m             raise ConnectionException(\"Login: Checkpoint required. Point your browser to \"\n",
      "\u001b[1;31mTwoFactorAuthRequiredException\u001b[0m: Login error: two-factor authentication required."
     ]
    }
   ],
   "source": [
    "L = instaloader.Instaloader()\n",
    "\n",
    "#Login\n",
    "\n",
    "username=\"notsmithjane\"\n",
    "password=\"Marble@2008\"\n",
    "\n",
    "#L.login(username,password)\n"
   ]
  },
  {
   "cell_type": "code",
   "execution_count": 17,
   "id": "87c94bcd",
   "metadata": {},
   "outputs": [
    {
     "name": "stdout",
     "output_type": "stream",
     "text": [
      "Saved session to janesessionhash.\n"
     ]
    }
   ],
   "source": [
    "L.two_factor_login(\"098114\")\n",
    "\n",
    "#saving session to file \n",
    "L.save_session_to_file(filename=\"janesessionhash\")\n",
    "#L.load_session_from_file(\"notsmithjane\",filename=\"janesessionhash\")"
   ]
  },
  {
   "cell_type": "code",
   "execution_count": 18,
   "id": "bfa93dac",
   "metadata": {},
   "outputs": [
    {
     "ename": "QueryReturnedBadRequestException",
     "evalue": "400 Bad Request",
     "output_type": "error",
     "traceback": [
      "\u001b[1;31m---------------------------------------------------------------------------\u001b[0m",
      "\u001b[1;31mQueryReturnedBadRequestException\u001b[0m          Traceback (most recent call last)",
      "\u001b[1;32m~\\AppData\\Local\\Temp\\ipykernel_12432\\3642322841.py\u001b[0m in \u001b[0;36m<module>\u001b[1;34m\u001b[0m\n\u001b[1;32m----> 1\u001b[1;33m \u001b[0mown\u001b[0m\u001b[1;33m=\u001b[0m\u001b[0minstaloader\u001b[0m\u001b[1;33m.\u001b[0m\u001b[0mProfile\u001b[0m\u001b[1;33m.\u001b[0m\u001b[0mown_profile\u001b[0m\u001b[1;33m(\u001b[0m\u001b[0mL\u001b[0m\u001b[1;33m.\u001b[0m\u001b[0mcontext\u001b[0m\u001b[1;33m)\u001b[0m\u001b[1;33m\u001b[0m\u001b[1;33m\u001b[0m\u001b[0m\n\u001b[0m\u001b[0;32m      2\u001b[0m \u001b[0mprint\u001b[0m\u001b[1;33m(\u001b[0m\u001b[0mown\u001b[0m\u001b[1;33m)\u001b[0m\u001b[1;33m\u001b[0m\u001b[1;33m\u001b[0m\u001b[0m\n",
      "\u001b[1;32m~\\anaconda3\\lib\\site-packages\\instaloader\\structures.py\u001b[0m in \u001b[0;36mown_profile\u001b[1;34m(cls, context)\u001b[0m\n\u001b[0;32m    755\u001b[0m         \u001b[1;32mif\u001b[0m \u001b[1;32mnot\u001b[0m \u001b[0mcontext\u001b[0m\u001b[1;33m.\u001b[0m\u001b[0mis_logged_in\u001b[0m\u001b[1;33m:\u001b[0m\u001b[1;33m\u001b[0m\u001b[1;33m\u001b[0m\u001b[0m\n\u001b[0;32m    756\u001b[0m             \u001b[1;32mraise\u001b[0m \u001b[0mLoginRequiredException\u001b[0m\u001b[1;33m(\u001b[0m\u001b[1;34m\"--login required to access own profile.\"\u001b[0m\u001b[1;33m)\u001b[0m\u001b[1;33m\u001b[0m\u001b[1;33m\u001b[0m\u001b[0m\n\u001b[1;32m--> 757\u001b[1;33m         \u001b[1;32mreturn\u001b[0m \u001b[0mcls\u001b[0m\u001b[1;33m(\u001b[0m\u001b[0mcontext\u001b[0m\u001b[1;33m,\u001b[0m \u001b[0mcontext\u001b[0m\u001b[1;33m.\u001b[0m\u001b[0mgraphql_query\u001b[0m\u001b[1;33m(\u001b[0m\u001b[1;34m\"d6f4427fbe92d846298cf93df0b937d3\"\u001b[0m\u001b[1;33m,\u001b[0m \u001b[1;33m{\u001b[0m\u001b[1;33m}\u001b[0m\u001b[1;33m)\u001b[0m\u001b[1;33m[\u001b[0m\u001b[1;34m\"data\"\u001b[0m\u001b[1;33m]\u001b[0m\u001b[1;33m[\u001b[0m\u001b[1;34m\"user\"\u001b[0m\u001b[1;33m]\u001b[0m\u001b[1;33m)\u001b[0m\u001b[1;33m\u001b[0m\u001b[1;33m\u001b[0m\u001b[0m\n\u001b[0m\u001b[0;32m    758\u001b[0m \u001b[1;33m\u001b[0m\u001b[0m\n\u001b[0;32m    759\u001b[0m     \u001b[1;32mdef\u001b[0m \u001b[0m_asdict\u001b[0m\u001b[1;33m(\u001b[0m\u001b[0mself\u001b[0m\u001b[1;33m)\u001b[0m\u001b[1;33m:\u001b[0m\u001b[1;33m\u001b[0m\u001b[1;33m\u001b[0m\u001b[0m\n",
      "\u001b[1;32m~\\anaconda3\\lib\\site-packages\\instaloader\\instaloadercontext.py\u001b[0m in \u001b[0;36mgraphql_query\u001b[1;34m(self, query_hash, variables, referer, rhx_gis)\u001b[0m\n\u001b[0;32m    426\u001b[0m                 \u001b[0mtmpsession\u001b[0m\u001b[1;33m.\u001b[0m\u001b[0mheaders\u001b[0m\u001b[1;33m[\u001b[0m\u001b[1;34m'x-instagram-gis'\u001b[0m\u001b[1;33m]\u001b[0m \u001b[1;33m=\u001b[0m \u001b[0mx_instagram_gis\u001b[0m\u001b[1;33m\u001b[0m\u001b[1;33m\u001b[0m\u001b[0m\n\u001b[0;32m    427\u001b[0m \u001b[1;33m\u001b[0m\u001b[0m\n\u001b[1;32m--> 428\u001b[1;33m             resp_json = self.get_json('graphql/query',\n\u001b[0m\u001b[0;32m    429\u001b[0m                                       params={'query_hash': query_hash,\n\u001b[0;32m    430\u001b[0m                                               'variables': variables_json},\n",
      "\u001b[1;32m~\\anaconda3\\lib\\site-packages\\instaloader\\instaloadercontext.py\u001b[0m in \u001b[0;36mget_json\u001b[1;34m(self, path, params, host, session, _attempt)\u001b[0m\n\u001b[0;32m    343\u001b[0m                     \u001b[1;32mbreak\u001b[0m\u001b[1;33m\u001b[0m\u001b[1;33m\u001b[0m\u001b[0m\n\u001b[0;32m    344\u001b[0m             \u001b[1;32mif\u001b[0m \u001b[0mresp\u001b[0m\u001b[1;33m.\u001b[0m\u001b[0mstatus_code\u001b[0m \u001b[1;33m==\u001b[0m \u001b[1;36m400\u001b[0m\u001b[1;33m:\u001b[0m\u001b[1;33m\u001b[0m\u001b[1;33m\u001b[0m\u001b[0m\n\u001b[1;32m--> 345\u001b[1;33m                 \u001b[1;32mraise\u001b[0m \u001b[0mQueryReturnedBadRequestException\u001b[0m\u001b[1;33m(\u001b[0m\u001b[1;34m\"400 Bad Request\"\u001b[0m\u001b[1;33m)\u001b[0m\u001b[1;33m\u001b[0m\u001b[1;33m\u001b[0m\u001b[0m\n\u001b[0m\u001b[0;32m    346\u001b[0m             \u001b[1;32mif\u001b[0m \u001b[0mresp\u001b[0m\u001b[1;33m.\u001b[0m\u001b[0mstatus_code\u001b[0m \u001b[1;33m==\u001b[0m \u001b[1;36m404\u001b[0m\u001b[1;33m:\u001b[0m\u001b[1;33m\u001b[0m\u001b[1;33m\u001b[0m\u001b[0m\n\u001b[0;32m    347\u001b[0m                 \u001b[1;32mraise\u001b[0m \u001b[0mQueryReturnedNotFoundException\u001b[0m\u001b[1;33m(\u001b[0m\u001b[1;34m\"404 Not Found\"\u001b[0m\u001b[1;33m)\u001b[0m\u001b[1;33m\u001b[0m\u001b[1;33m\u001b[0m\u001b[0m\n",
      "\u001b[1;31mQueryReturnedBadRequestException\u001b[0m: 400 Bad Request"
     ]
    }
   ],
   "source": [
    "own=instaloader.Profile.own_profile(L.context)\n",
    "print(own)"
   ]
  },
  {
   "cell_type": "code",
   "execution_count": 10,
   "id": "9ee9ca3a",
   "metadata": {},
   "outputs": [
    {
     "name": "stdout",
     "output_type": "stream",
     "text": [
      "frozen iterator not found, creating a new one:\n",
      "iterator saved after making new one\n",
      "iterator frozen after 200 followers and saved\n",
      "file closed\n",
      "0\n",
      "reached end of function\n"
     ]
    }
   ],
   "source": [
    "lib=\"bplboston\"\n",
    "profile = instaloader.Profile.from_username(L.context, lib)\n",
    "\n",
    "#creating follower iterator and file to store the iterator\n",
    "fol_iters=profile.get_followers()\n",
    "filenameiter=\"accountiter.json\"\n",
    "\n",
    "#opening file to write the followers and initializing writer \n",
    "#f=open(\"rescriptfs.csv\",\"a\",encoding='UTF8',newline='')\n",
    "#writer=csv.writer(f)\n",
    "\n",
    "\n",
    "#calculating the number of total loops to get followers in batches:\n",
    "\n",
    "'''\n",
    "nfols=profile.followers\n",
    "n=(nfols//1000)+1\n",
    "\n",
    "main=0\n",
    "mainiter=0\n",
    "'''\n",
    "\n",
    "#if the iterator doesn't exist in file, create a new one\n",
    "#else load the iterator from the file \n",
    "\n",
    "\n",
    "\n",
    "\n",
    "\n",
    "\n",
    "\n",
    "def fetchfollowers(followeriterator,csvfilename,iteratorfilename):\n",
    "    f=open(csvfilename,\"a\",encoding='UTF8',newline='')\n",
    "    writer=csv.writer(f)\n",
    "    count=0\n",
    "    for follower in followeriterator:\n",
    "        #print(follower.username)\n",
    "        count=count+1\n",
    "        writer.writerow([follower.username])\n",
    "        if(count<200):\n",
    "            continue\n",
    "        else:\n",
    "            break        \n",
    "    instaloader.structures.save_structure_to_file(followeriterator.freeze(),iteratorfilename)\n",
    "    print(\"iterator frozen after 200 followers and saved\")\n",
    "    f.close()\n",
    "    print(\"file closed\")\n",
    "    print(count)\n",
    "    print(\"reached end of function\")\n",
    "\n",
    "\n",
    "\n",
    "\n",
    "try:\n",
    "    #fol_iters.load(filename)\n",
    "    fol_iters.thaw(instaloader.structures.load_structure_from_file(L.context,filenameiter))\n",
    "    print(\"frozen iterator loaded successfully\")\n",
    "\n",
    "except FileNotFoundError:\n",
    "    print(\"frozen iterator not found, creating a new one:\")\n",
    "    fol_iters=profile.get_followers()\n",
    "    instaloader.structures.save_structure_to_file(fol_iters.freeze(),filenameiter)\n",
    "    print(\"iterator saved after making new one\")\n",
    "    \n",
    "\n",
    "'''\n",
    "\n",
    " \n",
    "f=open(savetocsv,\"a\",encoding='UTF8',newline='')\n",
    "writer=csv.writer(f)\n",
    "\n",
    "count=0\n",
    "for follower in fol_iters:\n",
    "    #print(follower.username)\n",
    "    count=count+1\n",
    "    writer.writerow([follower.username])\n",
    "    if(count<500):\n",
    "        continue\n",
    "    else:\n",
    "        print(\"breaking now\")\n",
    "        break        \n",
    "        \n",
    "\n",
    "        \n",
    "print(count)\n",
    "\n",
    "#instaloader.structures.save_structure_to_file(fol_iters.freeze(),filenameiter)\n",
    "print(\"iterator frozen after 500 followers and saved\")\n",
    "f.close()\n",
    "print(\"file closed\")\n",
    "'''\n",
    "    \n",
    "filenamelib=lib+\".csv\"\n",
    "fetchfollowers(fol_iters,filenamelib,filenameiter)\n",
    "\n",
    "\n",
    "\n"
   ]
  },
  {
   "cell_type": "code",
   "execution_count": null,
   "id": "4ad3fcc1",
   "metadata": {},
   "outputs": [],
   "source": []
  },
  {
   "cell_type": "code",
   "execution_count": null,
   "id": "602f1d94",
   "metadata": {},
   "outputs": [],
   "source": []
  },
  {
   "cell_type": "code",
   "execution_count": null,
   "id": "7caeb3a5",
   "metadata": {},
   "outputs": [],
   "source": []
  }
 ],
 "metadata": {
  "kernelspec": {
   "display_name": "Python 3 (ipykernel)",
   "language": "python",
   "name": "python3"
  },
  "language_info": {
   "codemirror_mode": {
    "name": "ipython",
    "version": 3
   },
   "file_extension": ".py",
   "mimetype": "text/x-python",
   "name": "python",
   "nbconvert_exporter": "python",
   "pygments_lexer": "ipython3",
   "version": "3.9.13"
  }
 },
 "nbformat": 4,
 "nbformat_minor": 5
}
