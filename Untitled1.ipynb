{
 "cells": [
  {
   "cell_type": "code",
   "execution_count": null,
   "id": "7ef2288a",
   "metadata": {},
   "outputs": [],
   "source": [
    "'''\n",
    "-Draw main graph\n",
    "\n",
    "Centrality measures:\n",
    "indegree, outdegree, betweenness\n",
    "\n",
    "Data analysis:\n",
    "-link between following and followers\n",
    "-link between followers and mediacount\n",
    "-link between followers and visitors\n",
    "-link between followers and hashtagged\n",
    "-link between followers and visitors\n",
    "-link between visitors and hashtagged\n",
    "-Differentiate on the basis of funding, type - \n",
    "draw graphs on basis of funding and type, analyse centrality there\n",
    "\n",
    "Community analysis\n",
    "-Community formed on basis of type, funding\n",
    "\n",
    "'''"
   ]
  }
 ],
 "metadata": {
  "kernelspec": {
   "display_name": "Python 3 (ipykernel)",
   "language": "python",
   "name": "python3"
  },
  "language_info": {
   "codemirror_mode": {
    "name": "ipython",
    "version": 3
   },
   "file_extension": ".py",
   "mimetype": "text/x-python",
   "name": "python",
   "nbconvert_exporter": "python",
   "pygments_lexer": "ipython3",
   "version": "3.9.13"
  }
 },
 "nbformat": 4,
 "nbformat_minor": 5
}
