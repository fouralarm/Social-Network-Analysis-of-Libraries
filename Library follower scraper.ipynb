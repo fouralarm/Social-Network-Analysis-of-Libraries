{
 "cells": [
  {
   "cell_type": "code",
   "execution_count": 4,
   "id": "585cedee",
   "metadata": {},
   "outputs": [],
   "source": [
    "import instaloader \n",
    "import csv\n",
    "import pandas as pd"
   ]
  },
  {
   "cell_type": "code",
   "execution_count": 7,
   "id": "12996dbb",
   "metadata": {
    "scrolled": true
   },
   "outputs": [
    {
     "ename": "ConnectionException",
     "evalue": "Login: Checkpoint required. Point your browser to https://www.instagram.com/challenge/action/AXFiSHdaMg_pMpeJRmg1MohDv1FBqkeNH1S9uTT6jqXzfSJw5-5hVT0wDFJNORF5QWbn5QA/AfybbmhX4vQdrGnxW0imyGx7gQuHxyWHdSOEtlIRG_odae0oo71bZFa65UeStERIpuyHdzUnyht5Pg/ffc_gJU1dSOs9pLmMt50uPUc60KCnwSjIudk2iyKVwx9a36SkNwRgzZQZA0p8jbLamdF/ - follow the instructions, then retry.",
     "output_type": "error",
     "traceback": [
      "\u001b[1;31m---------------------------------------------------------------------------\u001b[0m",
      "\u001b[1;31mConnectionException\u001b[0m                       Traceback (most recent call last)",
      "\u001b[1;32m~\\AppData\\Local\\Temp\\ipykernel_26392\\4154332158.py\u001b[0m in \u001b[0;36m<module>\u001b[1;34m\u001b[0m\n\u001b[0;32m      7\u001b[0m \u001b[1;31m#logging in:\u001b[0m\u001b[1;33m\u001b[0m\u001b[1;33m\u001b[0m\u001b[0m\n\u001b[0;32m      8\u001b[0m \u001b[1;33m\u001b[0m\u001b[0m\n\u001b[1;32m----> 9\u001b[1;33m \u001b[0mL\u001b[0m\u001b[1;33m.\u001b[0m\u001b[0mlogin\u001b[0m\u001b[1;33m(\u001b[0m\u001b[0musername\u001b[0m\u001b[1;33m,\u001b[0m\u001b[0mpassword\u001b[0m\u001b[1;33m)\u001b[0m\u001b[1;33m\u001b[0m\u001b[1;33m\u001b[0m\u001b[0m\n\u001b[0m\u001b[0;32m     10\u001b[0m \u001b[1;33m\u001b[0m\u001b[0m\n\u001b[0;32m     11\u001b[0m \u001b[1;31m#saving session to file\u001b[0m\u001b[1;33m\u001b[0m\u001b[1;33m\u001b[0m\u001b[0m\n",
      "\u001b[1;32m~\\anaconda3\\lib\\site-packages\\instaloader\\instaloader.py\u001b[0m in \u001b[0;36mlogin\u001b[1;34m(self, user, passwd)\u001b[0m\n\u001b[0;32m    632\u001b[0m         \u001b[1;33m:\u001b[0m\u001b[0mraises\u001b[0m \u001b[0mTwoFactorAuthRequiredException\u001b[0m\u001b[1;33m:\u001b[0m \u001b[0mFirst\u001b[0m \u001b[0mstep\u001b[0m \u001b[0mof\u001b[0m \u001b[1;36m2\u001b[0m\u001b[0mFA\u001b[0m \u001b[0mlogin\u001b[0m \u001b[0mdone\u001b[0m\u001b[1;33m,\u001b[0m \u001b[0mnow\u001b[0m \u001b[0mcall\u001b[0m\u001b[1;33m\u001b[0m\u001b[1;33m\u001b[0m\u001b[0m\n\u001b[0;32m    633\u001b[0m            :meth:`Instaloader.two_factor_login`.\"\"\"\n\u001b[1;32m--> 634\u001b[1;33m         \u001b[0mself\u001b[0m\u001b[1;33m.\u001b[0m\u001b[0mcontext\u001b[0m\u001b[1;33m.\u001b[0m\u001b[0mlogin\u001b[0m\u001b[1;33m(\u001b[0m\u001b[0muser\u001b[0m\u001b[1;33m,\u001b[0m \u001b[0mpasswd\u001b[0m\u001b[1;33m)\u001b[0m\u001b[1;33m\u001b[0m\u001b[1;33m\u001b[0m\u001b[0m\n\u001b[0m\u001b[0;32m    635\u001b[0m \u001b[1;33m\u001b[0m\u001b[0m\n\u001b[0;32m    636\u001b[0m     \u001b[1;32mdef\u001b[0m \u001b[0mtwo_factor_login\u001b[0m\u001b[1;33m(\u001b[0m\u001b[0mself\u001b[0m\u001b[1;33m,\u001b[0m \u001b[0mtwo_factor_code\u001b[0m\u001b[1;33m)\u001b[0m \u001b[1;33m->\u001b[0m \u001b[1;32mNone\u001b[0m\u001b[1;33m:\u001b[0m\u001b[1;33m\u001b[0m\u001b[1;33m\u001b[0m\u001b[0m\n",
      "\u001b[1;32m~\\anaconda3\\lib\\site-packages\\instaloader\\instaloadercontext.py\u001b[0m in \u001b[0;36mlogin\u001b[1;34m(self, user, passwd)\u001b[0m\n\u001b[0;32m    237\u001b[0m             \u001b[1;32mraise\u001b[0m \u001b[0mTwoFactorAuthRequiredException\u001b[0m\u001b[1;33m(\u001b[0m\u001b[1;34m\"Login error: two-factor authentication required.\"\u001b[0m\u001b[1;33m)\u001b[0m\u001b[1;33m\u001b[0m\u001b[1;33m\u001b[0m\u001b[0m\n\u001b[0;32m    238\u001b[0m         \u001b[1;32mif\u001b[0m \u001b[0mresp_json\u001b[0m\u001b[1;33m.\u001b[0m\u001b[0mget\u001b[0m\u001b[1;33m(\u001b[0m\u001b[1;34m'checkpoint_url'\u001b[0m\u001b[1;33m)\u001b[0m\u001b[1;33m:\u001b[0m\u001b[1;33m\u001b[0m\u001b[1;33m\u001b[0m\u001b[0m\n\u001b[1;32m--> 239\u001b[1;33m             raise ConnectionException(\"Login: Checkpoint required. Point your browser to \"\n\u001b[0m\u001b[0;32m    240\u001b[0m                                       \u001b[1;34m\"https://www.instagram.com{} - \"\u001b[0m\u001b[1;33m\u001b[0m\u001b[1;33m\u001b[0m\u001b[0m\n\u001b[0;32m    241\u001b[0m                                       \"follow the instructions, then retry.\".format(resp_json.get('checkpoint_url')))\n",
      "\u001b[1;31mConnectionException\u001b[0m: Login: Checkpoint required. Point your browser to https://www.instagram.com/challenge/action/AXFiSHdaMg_pMpeJRmg1MohDv1FBqkeNH1S9uTT6jqXzfSJw5-5hVT0wDFJNORF5QWbn5QA/AfybbmhX4vQdrGnxW0imyGx7gQuHxyWHdSOEtlIRG_odae0oo71bZFa65UeStERIpuyHdzUnyht5Pg/ffc_gJU1dSOs9pLmMt50uPUc60KCnwSjIudk2iyKVwx9a36SkNwRgzZQZA0p8jbLamdF/ - follow the instructions, then retry."
     ]
    }
   ],
   "source": [
    "#logging in and saving session\n",
    "L=instaloader.Instaloader()\n",
    "\n",
    "username=\"alicebob300\"\n",
    "password=\"Marble@2008\"\n",
    "\n",
    "#logging in:\n",
    "\n",
    "L.login(username,password)\n",
    "\n",
    "#saving session to file \n",
    "#L.save_session_to_file(filename=\"alicesession\")"
   ]
  },
  {
   "cell_type": "code",
   "execution_count": null,
   "id": "b20441f9",
   "metadata": {},
   "outputs": [],
   "source": [
    "#L.load_session_from_file(\"alicebob300\",filename=\"alicesession\")"
   ]
  },
  {
   "cell_type": "code",
   "execution_count": 6,
   "id": "63b2dbd0",
   "metadata": {},
   "outputs": [
    {
     "data": {
      "text/plain": [
       "Index(['S.no', 'Name', 'Instagram user'], dtype='object')"
      ]
     },
     "execution_count": 6,
     "metadata": {},
     "output_type": "execute_result"
    }
   ],
   "source": [
    "handlesdata=pd.read_csv(\"handles.csv\")\n",
    "hdf=pd.DataFrame(handlesdata)\n",
    "hdf.columns\n",
    "#profile = instaloader.Profile.from_username(L.context,team)"
   ]
  },
  {
   "cell_type": "code",
   "execution_count": 8,
   "id": "d6e906a4",
   "metadata": {},
   "outputs": [
    {
     "data": {
      "text/html": [
       "<div>\n",
       "<style scoped>\n",
       "    .dataframe tbody tr th:only-of-type {\n",
       "        vertical-align: middle;\n",
       "    }\n",
       "\n",
       "    .dataframe tbody tr th {\n",
       "        vertical-align: top;\n",
       "    }\n",
       "\n",
       "    .dataframe thead th {\n",
       "        text-align: right;\n",
       "    }\n",
       "</style>\n",
       "<table border=\"1\" class=\"dataframe\">\n",
       "  <thead>\n",
       "    <tr style=\"text-align: right;\">\n",
       "      <th></th>\n",
       "      <th>S.no</th>\n",
       "      <th>Name</th>\n",
       "      <th>Instagram user</th>\n",
       "    </tr>\n",
       "  </thead>\n",
       "  <tbody>\n",
       "    <tr>\n",
       "      <th>11</th>\n",
       "      <td>12</td>\n",
       "      <td>Boston Public Library</td>\n",
       "      <td>bplboston</td>\n",
       "    </tr>\n",
       "  </tbody>\n",
       "</table>\n",
       "</div>"
      ],
      "text/plain": [
       "    S.no                    Name Instagram user\n",
       "11    12  Boston Public Library       bplboston"
      ]
     },
     "execution_count": 8,
     "metadata": {},
     "output_type": "execute_result"
    }
   ],
   "source": [
    "#11,13,15,19,22,23,26,27,28,29,30,38,47,53,63,64,67,68,69 - not fully scraped\n",
    "#34 - 399 scraped\n",
    "index=11\n",
    "\n",
    "\n",
    "hdf.iloc[[index]]"
   ]
  },
  {
   "cell_type": "code",
   "execution_count": 249,
   "id": "325b5626",
   "metadata": {},
   "outputs": [],
   "source": [
    "#hdf[\"Instagram user\"][0]"
   ]
  },
  {
   "cell_type": "code",
   "execution_count": 9,
   "id": "ecdd7f61",
   "metadata": {
    "scrolled": true
   },
   "outputs": [
    {
     "data": {
      "text/plain": [
       "('Boston Public Library ', 'bplboston')"
      ]
     },
     "execution_count": 9,
     "metadata": {},
     "output_type": "execute_result"
    }
   ],
   "source": [
    "lib=hdf[\"Name\"][index]\n",
    "libuser=hdf[\"Instagram user\"][index]\n",
    "\n",
    "lib,libuser"
   ]
  },
  {
   "cell_type": "code",
   "execution_count": 124,
   "id": "5d9af72f",
   "metadata": {
    "scrolled": true
   },
   "outputs": [
    {
     "name": "stdout",
     "output_type": "stream",
     "text": [
      "<Profile alicebob300 (57972142434)>\n"
     ]
    }
   ],
   "source": [
    "own=instaloader.Profile.own_profile(L.context)\n",
    "print(own)"
   ]
  },
  {
   "cell_type": "code",
   "execution_count": 64,
   "id": "70971279",
   "metadata": {},
   "outputs": [],
   "source": []
  },
  {
   "cell_type": "code",
   "execution_count": 10,
   "id": "1c1496f2",
   "metadata": {},
   "outputs": [
    {
     "data": {
      "text/plain": [
       "(46998, 249)"
      ]
     },
     "execution_count": 10,
     "metadata": {},
     "output_type": "execute_result"
    }
   ],
   "source": [
    "profile = instaloader.Profile.from_username(L.context,libuser)\n",
    "profile.followers,profile.followees"
   ]
  },
  {
   "cell_type": "code",
   "execution_count": 126,
   "id": "c46c1675",
   "metadata": {},
   "outputs": [],
   "source": [
    "followingiters=profile.get_followees()\n",
    "\n",
    "filename=lib+\".csv\"\n",
    "\n",
    "f=open(filename,\"w\",encoding='UTF8',newline='')\n",
    "writer=csv.writer(f)\n",
    "\n",
    "for followee in followingiters:\n",
    "    writer.writerow([followee.username])\n",
    "    #print(followee.username)\n",
    "\n",
    "f.close()"
   ]
  },
  {
   "cell_type": "code",
   "execution_count": 127,
   "id": "b91b9c4b",
   "metadata": {},
   "outputs": [
    {
     "data": {
      "text/plain": [
       "430"
      ]
     },
     "execution_count": 127,
     "metadata": {},
     "output_type": "execute_result"
    }
   ],
   "source": [
    "followingiters.count"
   ]
  },
  {
   "cell_type": "code",
   "execution_count": 128,
   "id": "ba66a816",
   "metadata": {},
   "outputs": [
    {
     "name": "stdout",
     "output_type": "stream",
     "text": [
      "430\n"
     ]
    },
    {
     "data": {
      "text/html": [
       "<div>\n",
       "<style scoped>\n",
       "    .dataframe tbody tr th:only-of-type {\n",
       "        vertical-align: middle;\n",
       "    }\n",
       "\n",
       "    .dataframe tbody tr th {\n",
       "        vertical-align: top;\n",
       "    }\n",
       "\n",
       "    .dataframe thead th {\n",
       "        text-align: right;\n",
       "    }\n",
       "</style>\n",
       "<table border=\"1\" class=\"dataframe\">\n",
       "  <thead>\n",
       "    <tr style=\"text-align: right;\">\n",
       "      <th></th>\n",
       "      <th>0</th>\n",
       "    </tr>\n",
       "  </thead>\n",
       "  <tbody>\n",
       "    <tr>\n",
       "      <th>1</th>\n",
       "      <td>ahusa_ucla</td>\n",
       "    </tr>\n",
       "    <tr>\n",
       "      <th>2</th>\n",
       "      <td>calrbs</td>\n",
       "    </tr>\n",
       "    <tr>\n",
       "      <th>3</th>\n",
       "      <td>laniorg</td>\n",
       "    </tr>\n",
       "    <tr>\n",
       "      <th>4</th>\n",
       "      <td>ucla_dh</td>\n",
       "    </tr>\n",
       "    <tr>\n",
       "      <th>5</th>\n",
       "      <td>csudhlib</td>\n",
       "    </tr>\n",
       "  </tbody>\n",
       "</table>\n",
       "</div>"
      ],
      "text/plain": [
       "            0\n",
       "1  ahusa_ucla\n",
       "2      calrbs\n",
       "3     laniorg\n",
       "4     ucla_dh\n",
       "5    csudhlib"
      ]
     },
     "execution_count": 128,
     "metadata": {},
     "output_type": "execute_result"
    }
   ],
   "source": [
    "data=pd.read_csv(filename,header=None)\n",
    "df=pd.DataFrame(data)\n",
    "print(df.shape[0])\n",
    "df.index += 1 \n",
    "df.head()"
   ]
  },
  {
   "cell_type": "code",
   "execution_count": null,
   "id": "cc13db47",
   "metadata": {},
   "outputs": [],
   "source": []
  },
  {
   "cell_type": "code",
   "execution_count": null,
   "id": "c0d725c2",
   "metadata": {},
   "outputs": [],
   "source": []
  },
  {
   "cell_type": "code",
   "execution_count": null,
   "id": "f6d75831",
   "metadata": {},
   "outputs": [],
   "source": []
  },
  {
   "cell_type": "code",
   "execution_count": null,
   "id": "3009ac66",
   "metadata": {},
   "outputs": [],
   "source": []
  },
  {
   "cell_type": "code",
   "execution_count": null,
   "id": "4c244880",
   "metadata": {},
   "outputs": [],
   "source": []
  },
  {
   "cell_type": "code",
   "execution_count": null,
   "id": "da1c9782",
   "metadata": {},
   "outputs": [],
   "source": []
  }
 ],
 "metadata": {
  "kernelspec": {
   "display_name": "Python 3 (ipykernel)",
   "language": "python",
   "name": "python3"
  },
  "language_info": {
   "codemirror_mode": {
    "name": "ipython",
    "version": 3
   },
   "file_extension": ".py",
   "mimetype": "text/x-python",
   "name": "python",
   "nbconvert_exporter": "python",
   "pygments_lexer": "ipython3",
   "version": "3.9.13"
  }
 },
 "nbformat": 4,
 "nbformat_minor": 5
}
