{
 "cells": [
  {
   "cell_type": "code",
   "execution_count": 3,
   "id": "fef95775",
   "metadata": {},
   "outputs": [],
   "source": [
    "import pandas as pd\n",
    "from selenium import webdriver\n",
    "import time\n",
    "from bs4 import BeautifulSoup\n",
    "from selenium.webdriver.common.keys import Keys\n",
    "import random"
   ]
  },
  {
   "cell_type": "code",
   "execution_count": 4,
   "id": "3842da0f",
   "metadata": {},
   "outputs": [
    {
     "name": "stderr",
     "output_type": "stream",
     "text": [
      "C:\\Users\\Aditi\\AppData\\Local\\Temp\\ipykernel_7936\\967367687.py:2: DeprecationWarning: executable_path has been deprecated, please pass in a Service object\n",
      "  browser=webdriver.Chrome('./chromedriver')\n"
     ]
    },
    {
     "name": "stdout",
     "output_type": "stream",
     "text": [
      "'WebDriver' object has no attribute 'find_element_by_name'\n"
     ]
    }
   ],
   "source": [
    "#for Chrome users \n",
    "browser=webdriver.Chrome('./chromedriver')\n",
    "\n",
    "username=\"dark.72358\"\n",
    "password=\"Intruder@7\"\n",
    "def auth(username, password):\n",
    "    try:\n",
    "        browser.get(\"https://instagram.com/login\")\n",
    "        time.sleep(random.randrange(5,10))\n",
    "        input_username=browser.find_element_by_name(\"username\")\n",
    "        input_password=browser.find_element_by_name(\"password\")\n",
    "\n",
    "        input_username.send_keys(username)\n",
    "        time.sleep(random.randrange(2,4))\n",
    "        input_password.send_keys(password)\n",
    "        time.sleep(random.randrange(2,4))\n",
    "        input_password.send_keys(Keys.ENTER)\n",
    "        time.sleep(random.randrange(5,10))\n",
    "        \n",
    "    except Exception as e:\n",
    "        print(e)\n",
    "auth(username, password)\n"
   ]
  },
  {
   "cell_type": "code",
   "execution_count": null,
   "id": "7da43a31",
   "metadata": {},
   "outputs": [],
   "source": [
    "time.sleep(5)\n",
    "#put the link of profile from where you want to scrap usernames\n",
    "browser.get(\"https://www.instagram.com/anique.jadoon/followers\")\n",
    "\n",
    "fBody  = browser.find_element_by_xpath(\"//div[@class='_aano']\")\n",
    "\n",
    "#Scroll in the Followers List\n",
    "scroll = 0\n",
    "while scroll < 1000: # scroll 5 times\n",
    "    browser.execute_script('arguments[0].scrollTop = arguments[0].scrollTop + arguments[0].offsetHeight;', fBody)\n",
    "    time.sleep(0.5)\n",
    "    scroll += 1\n",
    "\n",
    "html=browser.page_source\n",
    "soup=BeautifulSoup(HTML)\n",
    "usernames=soup.find_all('a',class_=\"qi72231t nu7423ey n3hqoq4p r86q59rh b3qcqh3k fq87ekyn bdao358l fsf7x5fv rse6dlih s5oniofx m8h3af8h l7ghb35v kjdc1dyq kmwttqpk srn514ro oxkhqvkx rl78xhln nch0832m cr00lzj9 rn8ck1ys s3jn8y49 icdlwmnq notranslate _a6hd\")\n",
    "\n",
    "j=0\n",
    "users=[]\n",
    "for i in usernames:\n",
    "    users.append(i.text)\n",
    "    j=j+1\n",
    "df=pd.DataFrame(users,columns=[\"Usernames\"])\n",
    "df.to_excel(r\"c:/users/anique khan/desktop/Anique Khan Instagram Followers.xlsx\")"
   ]
  }
 ],
 "metadata": {
  "kernelspec": {
   "display_name": "scraping",
   "language": "python",
   "name": "scraping"
  },
  "language_info": {
   "codemirror_mode": {
    "name": "ipython",
    "version": 3
   },
   "file_extension": ".py",
   "mimetype": "text/x-python",
   "name": "python",
   "nbconvert_exporter": "python",
   "pygments_lexer": "ipython3",
   "version": "3.9.16"
  }
 },
 "nbformat": 4,
 "nbformat_minor": 5
}
